{
  "nbformat": 4,
  "nbformat_minor": 0,
  "metadata": {
    "colab": {
      "provenance": [],
      "gpuType": "T4"
    },
    "kernelspec": {
      "name": "python3",
      "display_name": "Python 3"
    },
    "language_info": {
      "name": "python"
    },
    "accelerator": "GPU"
  },
  "cells": [
    {
      "cell_type": "markdown",
      "source": [
        "# Autoregressive Models (PixelCNN)"
      ],
      "metadata": {
        "id": "nGnyUuxRvRAk"
      }
    },
    {
      "cell_type": "code",
      "source": [
        "import torch\n",
        "import torch.nn as nn\n",
        "import torch.optim as optim\n",
        "import torch.nn.functional as F\n",
        "from torchvision import datasets, transforms\n",
        "from torch.utils.data import DataLoader\n",
        "import matplotlib.pyplot as plt\n",
        "import numpy as np\n",
        "from tqdm import tqdm\n",
        "import matplotlib.pyplot as plt\n",
        "# Parameters\n",
        "IMAGE_SIZE = 16\n",
        "PIXEL_LEVELS = 4\n",
        "N_FILTERS = 128\n",
        "RESIDUAL_BLOCKS = 5\n",
        "BATCH_SIZE = 128\n",
        "EPOCHS = 3\n",
        "DEVICE = torch.device(\"cuda\" if torch.cuda.is_available() else \"cpu\")"
      ],
      "metadata": {
        "id": "imXKLrukl-0M"
      },
      "execution_count": 9,
      "outputs": []
    },
    {
      "cell_type": "code",
      "source": [
        "# Data Preparation\n",
        "transform = transforms.Compose([\n",
        "    transforms.Resize((IMAGE_SIZE, IMAGE_SIZE)),\n",
        "    transforms.ToTensor(),\n",
        "    transforms.Lambda(lambda x: (x * 255).float() // (256 // PIXEL_LEVELS))\n",
        "])\n",
        "path= \".\"\n",
        "dataset = datasets.FashionMNIST(root=path, train=True, download=True, transform=transform)\n",
        "data_loader = DataLoader(dataset, batch_size=BATCH_SIZE, shuffle=True)"
      ],
      "metadata": {
        "colab": {
          "base_uri": "https://localhost:8080/"
        },
        "id": "25wZGjZImsE1",
        "outputId": "c0c5623f-f95e-433f-82c3-a5310d74a361"
      },
      "execution_count": 3,
      "outputs": [
        {
          "output_type": "stream",
          "name": "stderr",
          "text": [
            "100%|██████████| 26.4M/26.4M [00:01<00:00, 13.6MB/s]\n",
            "100%|██████████| 29.5k/29.5k [00:00<00:00, 198kB/s]\n",
            "100%|██████████| 4.42M/4.42M [00:01<00:00, 3.68MB/s]\n",
            "100%|██████████| 5.15k/5.15k [00:00<00:00, 14.0MB/s]\n"
          ]
        }
      ]
    },
    {
      "cell_type": "code",
      "source": [
        "class MaskedConv2d(nn.Conv2d):\n",
        "    def __init__(self, mask_type, *args, **kwargs):\n",
        "        super().__init__(*args, **kwargs)\n",
        "        self.register_buffer('mask', self.weight.data.clone())\n",
        "        _, _, h, w = self.weight.size()\n",
        "        self.mask.fill_(1)\n",
        "        self.mask[:, :, h // 2, w // 2 + (mask_type == 'B'):] = 0\n",
        "        self.mask[:, :, h // 2 + 1:] = 0\n",
        "\n",
        "    def forward(self, x):\n",
        "        self.weight.data *= self.mask\n",
        "        return super().forward(x)"
      ],
      "metadata": {
        "id": "9Zs2dNMFoqHu"
      },
      "execution_count": 4,
      "outputs": []
    },
    {
      "cell_type": "code",
      "source": [
        "class ResidualBlock(nn.Module):\n",
        "    def __init__(self, filters):\n",
        "        super().__init__()\n",
        "        self.block = nn.Sequential(\n",
        "            nn.ReLU(),\n",
        "            nn.Conv2d(filters, filters // 2, kernel_size=1),\n",
        "            nn.ReLU(),\n",
        "            MaskedConv2d('B', filters // 2, filters // 2, kernel_size=3, padding=1),\n",
        "            nn.ReLU(),\n",
        "            nn.Conv2d(filters // 2, filters, kernel_size=1)\n",
        "        )\n",
        "\n",
        "    def forward(self, x):\n",
        "        return x + self.block(x)"
      ],
      "metadata": {
        "id": "iHfRUumzorJ4"
      },
      "execution_count": 5,
      "outputs": []
    },
    {
      "cell_type": "code",
      "source": [
        "# PixelCNN Model\n",
        "class PixelCNN(nn.Module):\n",
        "    def __init__(self):\n",
        "        super().__init__()\n",
        "        self.model = nn.Sequential(\n",
        "            MaskedConv2d('A', 1, N_FILTERS, kernel_size=7, padding=3),\n",
        "            *[ResidualBlock(N_FILTERS) for _ in range(RESIDUAL_BLOCKS)],\n",
        "            nn.ReLU(),\n",
        "            MaskedConv2d('B', N_FILTERS, N_FILTERS, kernel_size=1),\n",
        "            nn.ReLU(),\n",
        "            MaskedConv2d('B', N_FILTERS, N_FILTERS, kernel_size=1),\n",
        "            nn.ReLU(),\n",
        "            nn.Conv2d(N_FILTERS, PIXEL_LEVELS, kernel_size=1)\n",
        "        )\n",
        "\n",
        "    def forward(self, x):\n",
        "        return self.model(x)\n",
        "\n",
        "model = PixelCNN().to(DEVICE)"
      ],
      "metadata": {
        "id": "Cg1mM2nOo1eg"
      },
      "execution_count": 6,
      "outputs": []
    },
    {
      "cell_type": "code",
      "source": [
        "optimizer = optim.Adam(model.parameters(), lr=0.0005)\n",
        "criterion = nn.CrossEntropyLoss()\n",
        "# Training Loop\n",
        "for epoch in range(EPOCHS):\n",
        "    model.train()\n",
        "    total_loss = 0\n",
        "    for images, _ in tqdm(data_loader, desc=f\"Epoch {epoch+1}/{EPOCHS}\"):\n",
        "\n",
        "        images = images.to(DEVICE).squeeze(1)\n",
        "        optimizer.zero_grad()\n",
        "        inputs = images.float().unsqueeze(1)     # [batch, 1, H, W]\n",
        "        targets = images.long()                  # [batch, H, W]\n",
        "        outputs = model(inputs)                  # [batch, PIXEL_LEVELS, H, W]\n",
        "        loss = criterion(outputs, targets)       # CrossEntropy expects float inputs and long targets\n",
        "        loss.backward()\n",
        "        optimizer.step()\n",
        "        total_loss += loss.item()\n",
        "    avg_loss = total_loss / len(data_loader)\n",
        "    print(f\"Epoch {epoch+1}, Loss: {avg_loss:.4f}\")"
      ],
      "metadata": {
        "colab": {
          "base_uri": "https://localhost:8080/"
        },
        "id": "Tzgwog4KpGSg",
        "outputId": "4853e6ba-8992-4b37-ebed-b2da3a8dcad3"
      },
      "execution_count": 10,
      "outputs": [
        {
          "output_type": "stream",
          "name": "stderr",
          "text": [
            "Epoch 1/3: 100%|██████████| 469/469 [00:24<00:00, 19.19it/s]\n"
          ]
        },
        {
          "output_type": "stream",
          "name": "stdout",
          "text": [
            "Epoch 1, Loss: 0.2977\n"
          ]
        },
        {
          "output_type": "stream",
          "name": "stderr",
          "text": [
            "Epoch 2/3: 100%|██████████| 469/469 [00:23<00:00, 19.99it/s]\n"
          ]
        },
        {
          "output_type": "stream",
          "name": "stdout",
          "text": [
            "Epoch 2, Loss: 0.2904\n"
          ]
        },
        {
          "output_type": "stream",
          "name": "stderr",
          "text": [
            "Epoch 3/3: 100%|██████████| 469/469 [00:26<00:00, 17.91it/s]"
          ]
        },
        {
          "output_type": "stream",
          "name": "stdout",
          "text": [
            "Epoch 3, Loss: 0.2897\n"
          ]
        },
        {
          "output_type": "stream",
          "name": "stderr",
          "text": [
            "\n"
          ]
        }
      ]
    },
    {
      "cell_type": "code",
      "source": [
        "model.load_state_dict(torch.load(\"PixelCNN.pt\", map_location=DEVICE))"
      ],
      "metadata": {
        "colab": {
          "base_uri": "https://localhost:8080/"
        },
        "id": "R5rz-brqq9it",
        "outputId": "571bc4e1-ee7e-4c57-a917-a3fbc1863d71"
      },
      "execution_count": 13,
      "outputs": [
        {
          "output_type": "execute_result",
          "data": {
            "text/plain": [
              "<All keys matched successfully>"
            ]
          },
          "metadata": {},
          "execution_count": 13
        }
      ]
    },
    {
      "cell_type": "code",
      "source": [
        "def generate_images(model, num_images, temperature=1.0):\n",
        "    model.eval()\n",
        "    generated = torch.zeros(num_images, 1, IMAGE_SIZE, IMAGE_SIZE, device=DEVICE)\n",
        "    with torch.no_grad():\n",
        "        for row in range(IMAGE_SIZE):\n",
        "            for col in range(IMAGE_SIZE):\n",
        "                logits = model(generated.float())[:, :, row, col] / temperature\n",
        "                probs = torch.softmax(logits, dim=-1)\n",
        "                generated[:, 0, row, col] = torch.multinomial(probs, 1).squeeze(-1)\n",
        "    return generated.cpu().numpy() / PIXEL_LEVELS\n",
        "\n",
        "# Generate sample images\n",
        "sample_images = generate_images(model, num_images=10)\n",
        "print(\"Generated images shape:\", sample_images.shape)"
      ],
      "metadata": {
        "colab": {
          "base_uri": "https://localhost:8080/"
        },
        "id": "aOod2MXDpuAZ",
        "outputId": "d3868f4d-377e-4e01-9a0f-8b16b34dd190"
      },
      "execution_count": 14,
      "outputs": [
        {
          "output_type": "stream",
          "name": "stdout",
          "text": [
            "Generated images shape: (10, 1, 16, 16)\n"
          ]
        }
      ]
    },
    {
      "cell_type": "code",
      "source": [
        "def plot_generated_images(images, n_cols=5):\n",
        "    n_rows = (len(images) + n_cols - 1) // n_cols\n",
        "    plt.figure(figsize=(2 * n_cols, 2 * n_rows))\n",
        "\n",
        "    for idx, img in enumerate(images):\n",
        "        plt.subplot(n_rows, n_cols, idx + 1)\n",
        "        plt.imshow(img.squeeze(), cmap='gray')\n",
        "        plt.axis('off')\n",
        "\n",
        "    plt.tight_layout()\n",
        "    plt.show()\n",
        "\n",
        "# Generate sample images (assuming you've done this step already)\n",
        "sample_images = generate_images(model, num_images=10, temperature=1.0)\n",
        "# Plot generated images\n",
        "plot_generated_images(sample_images)\n"
      ],
      "metadata": {
        "colab": {
          "base_uri": "https://localhost:8080/",
          "height": 407
        },
        "id": "hRVL6Lo4pnFz",
        "outputId": "63a66b20-897c-4fae-cb96-1d327089d356"
      },
      "execution_count": 15,
      "outputs": [
        {
          "output_type": "display_data",
          "data": {
            "text/plain": [
              "<Figure size 1000x400 with 10 Axes>"
            ],
            "image/png": "[encoded data removed]"
          },
          "metadata": {}
        }
      ]
    }
  ]
}